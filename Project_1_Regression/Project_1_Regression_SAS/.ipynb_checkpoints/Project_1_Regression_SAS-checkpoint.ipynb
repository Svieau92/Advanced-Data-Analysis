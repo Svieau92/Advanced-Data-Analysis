{
 "cells": [
  {
   "cell_type": "markdown",
   "id": "2c082e5a",
   "metadata": {},
   "source": [
    "# This is markdown"
   ]
  },
  {
   "cell_type": "code",
   "execution_count": null,
   "id": "81eea8bb",
   "metadata": {},
   "outputs": [],
   "source": [
    "# This is code\n",
    "print(\"Hello world\")"
   ]
  }
 ],
 "metadata": {
  "kernelspec": {
   "display_name": "Python 3 (ipykernel)",
   "language": "python",
   "name": "python3"
  },
  "language_info": {
   "codemirror_mode": {
    "name": "ipython",
    "version": 3
   },
   "file_extension": ".py",
   "mimetype": "text/x-python",
   "name": "python",
   "nbconvert_exporter": "python",
   "pygments_lexer": "ipython3",
   "version": "3.11.5"
  }
 },
 "nbformat": 4,
 "nbformat_minor": 5
}
